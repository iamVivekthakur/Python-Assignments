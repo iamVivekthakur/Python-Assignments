{
 "cells": [
  {
   "cell_type": "markdown",
   "id": "20870c7c",
   "metadata": {},
   "source": [
    "# TEST BY VIVEK THAKUR"
   ]
  },
  {
   "cell_type": "markdown",
   "id": "8acdf165",
   "metadata": {},
   "source": [
    "Q1)write a program to compute the average of the elements present in the list. "
   ]
  },
  {
   "cell_type": "code",
   "execution_count": 4,
   "id": "bfe4dfb5",
   "metadata": {},
   "outputs": [
    {
     "name": "stdout",
     "output_type": "stream",
     "text": [
      "42.25\n"
     ]
    }
   ],
   "source": [
    "a=[24,25,36,84]\n",
    "b=sum(a)/len(a)\n",
    "print(b)"
   ]
  },
  {
   "cell_type": "markdown",
   "id": "c172d5b9",
   "metadata": {},
   "source": [
    "Q2.Write a function called chop that takes a list and modifies it, removing the first and last elements, and returns None. Then write\n",
    "a function called middle that takes a list and returns a new list that contains the first and last elements."
   ]
  },
  {
   "cell_type": "code",
   "execution_count": 7,
   "id": "86d9d5de",
   "metadata": {},
   "outputs": [],
   "source": [
    "def chop(l):\n",
    "    for i in range(len(l)):\n",
    "        if i==0 or i==len(l)-1:\n",
    "            l.remove(l[i])\n",
    "            \n",
    "    print(l)\n",
    "    return None\n",
    "def middle(l):\n",
    "    l1=[]\n",
    "    for i in range (len(l)):\n",
    "        if i==0 or i==len(l)-1:\n",
    "            l1.append(l[i])\n",
    "    print(l1)"
   ]
  },
  {
   "cell_type": "code",
   "execution_count": 5,
   "id": "50db5d0a",
   "metadata": {},
   "outputs": [
    {
     "name": "stdout",
     "output_type": "stream",
     "text": [
      "[2, 3]\n"
     ]
    }
   ],
   "source": [
    "chop([1,2,3,4])"
   ]
  },
  {
   "cell_type": "code",
   "execution_count": 8,
   "id": "2530a462",
   "metadata": {},
   "outputs": [
    {
     "name": "stdout",
     "output_type": "stream",
     "text": [
      "[1, 4]\n"
     ]
    }
   ],
   "source": [
    "middle([1,2,3,4])"
   ]
  },
  {
   "cell_type": "markdown",
   "id": "0f48e9f3",
   "metadata": {},
   "source": [
    "Q3. write the program that prompts the user for a list of numbers and prints out the maximum and minimum of the numbers at the end when the user enters done. Write the program to store the\n",
    "numbers the user enters in a list and compute the maximum and minimum numbers after the loop completes?"
   ]
  },
  {
   "cell_type": "code",
   "execution_count": 1,
   "id": "bd24b0b3",
   "metadata": {},
   "outputs": [
    {
     "name": "stdout",
     "output_type": "stream",
     "text": [
      "Enter the Input : 50\n",
      "Enter the Input : 20\n",
      "Enter the Input : 40\n",
      "Enter the Input : 60\n",
      "Enter the Input : done\n",
      "['50', '20', '40', '60']\n",
      "Maximum value :  60\n",
      "Minimum value :  20\n"
     ]
    }
   ],
   "source": [
    "ls=[]\n",
    "while True:\n",
    "    \n",
    "    a=input('Enter the Input : ')\n",
    "    if a== 'done':\n",
    "        break\n",
    "        \n",
    "    else:\n",
    "        ls.append(a)\n",
    "        \n",
    "\n",
    "print(ls)\n",
    "print('Maximum value : ',max(ls))\n",
    "print('Minimum value : ',min(ls))"
   ]
  },
  {
   "cell_type": "markdown",
   "id": "485205bd",
   "metadata": {},
   "source": [
    "Q4. You need to write a program wherein you need to compute the frequency of letters and it has to be in dictionary format,  word =  'brontosaurus'. "
   ]
  },
  {
   "cell_type": "code",
   "execution_count": 16,
   "id": "2dfde4aa",
   "metadata": {},
   "outputs": [
    {
     "name": "stdout",
     "output_type": "stream",
     "text": [
      "{'b': 1, 'r': 2, 'o': 2, 'n': 1, 't': 1, 's': 2, 'a': 1, 'u': 2}\n"
     ]
    }
   ],
   "source": [
    "a= \"brontosaurus\"\n",
    "b= {}\n",
    "for i in a:\n",
    "        if i in b:\n",
    "            b[i]=b[i]+1\n",
    "        else:\n",
    "            b[i]= 1\n",
    "\n",
    "print(b)\n"
   ]
  },
  {
   "cell_type": "code",
   "execution_count": 10,
   "id": "deac777f",
   "metadata": {},
   "outputs": [
    {
     "data": {
      "text/plain": [
       "Counter({'b': 1, 'r': 2, 'o': 2, 'n': 1, 't': 1, 's': 2, 'a': 1, 'u': 2})"
      ]
     },
     "execution_count": 10,
     "metadata": {},
     "output_type": "execute_result"
    }
   ],
   "source": [
    "a= \"brontosaurus\"\n",
    "Counter(a)"
   ]
  },
  {
   "cell_type": "code",
   "execution_count": 12,
   "id": "00ca38c5",
   "metadata": {},
   "outputs": [
    {
     "data": {
      "text/plain": [
       "{'b': 1, 'r': 2, 'o': 2, 'n': 1, 't': 1, 's': 2, 'a': 1, 'u': 2}"
      ]
     },
     "execution_count": 12,
     "metadata": {},
     "output_type": "execute_result"
    }
   ],
   "source": [
    "d={}\n",
    "for i in a:\n",
    "    d[i]=a.count(i)\n",
    "    \n",
    "d"
   ]
  },
  {
   "cell_type": "markdown",
   "id": "d8ea363f",
   "metadata": {},
   "source": [
    "Q5.Write a program to see the length of values of a dictionary if the value length is greater than 5 print len else print short in new dictionary."
   ]
  },
  {
   "cell_type": "code",
   "execution_count": 18,
   "id": "58f1c14a",
   "metadata": {},
   "outputs": [
    {
     "data": {
      "text/plain": [
       "{'abhishek': 8, 'keshav': 6, 'Rohit': 'short', 'romi': 'short', 'kanika': 6}"
      ]
     },
     "execution_count": 18,
     "metadata": {},
     "output_type": "execute_result"
    }
   ],
   "source": [
    "d={1:'abhishek',2:'keshav',3:'Rohit',4:'romi',5:'kanika'}\n",
    "d1={}\n",
    "for i in d.values():\n",
    "    if len(i)>5:\n",
    "        d1[i]=len(i)\n",
    "    else:\n",
    "        d1[i]='short'\n",
    "\n",
    "d1\n"
   ]
  },
  {
   "cell_type": "markdown",
   "id": "fec67675",
   "metadata": {},
   "source": [
    "Q6. Task\n",
    "Given an integer, n, perform the following conditional actions:\n",
    "\n",
    "If  n is odd, print Weird\n",
    "If  n is even and in the inclusive range of  2 to 5, print Not Weird\n",
    "If  n is even and in the inclusive range of  6 to 20, print Weird\n",
    "If  n is even and greater than  20 , print Not Weird"
   ]
  },
  {
   "cell_type": "code",
   "execution_count": 1,
   "id": "ec76c8c4",
   "metadata": {},
   "outputs": [
    {
     "name": "stdout",
     "output_type": "stream",
     "text": [
      "Enter any number ? 0\n",
      "Weird\n"
     ]
    }
   ],
   "source": [
    "N=int(input(\"Enter any number ? \"))\n",
    "\n",
    "if N%2!= 1:\n",
    "    print(\"Weird\")\n",
    "else:\n",
    "    if N>=2 and N<=5:\n",
    "        print(\"Not Weird\")\n",
    "    elif N>=6 and N <=20:\n",
    "        print(\"Weird\")\n",
    "    elif N>20:\n",
    "        print(\"Not Weird\")"
   ]
  },
  {
   "cell_type": "markdown",
   "id": "cd9ac003",
   "metadata": {},
   "source": [
    "Q7. Write a function to compute the population of india in 2050 when i say it will be 7 times of todays population."
   ]
  },
  {
   "cell_type": "code",
   "execution_count": 2,
   "id": "a4744b34",
   "metadata": {},
   "outputs": [],
   "source": [
    "def population(a):\n",
    "    mul=7*a\n",
    "    return \"population in 2050 : \", mul"
   ]
  },
  {
   "cell_type": "code",
   "execution_count": 3,
   "id": "7574e4c5",
   "metadata": {},
   "outputs": [
    {
     "data": {
      "text/plain": [
       "('population in 2050 : ', 14000)"
      ]
     },
     "execution_count": 3,
     "metadata": {},
     "output_type": "execute_result"
    }
   ],
   "source": [
    "population(2000)"
   ]
  },
  {
   "cell_type": "markdown",
   "id": "a1a59009",
   "metadata": {},
   "source": [
    "Q8. write a function to count the no. of elements in a list .and if the count of element is greater than 6 check print the element and say lengthy . "
   ]
  },
  {
   "cell_type": "code",
   "execution_count": 3,
   "id": "abb0e382",
   "metadata": {},
   "outputs": [
    {
     "name": "stdout",
     "output_type": "stream",
     "text": [
      "[12, 13, 14, 16, 17]\n"
     ]
    }
   ],
   "source": [
    "ls= [12,13,14,16,17]\n",
    "count=len(ls)\n",
    "def count_element(ls):\n",
    "    if count>6:\n",
    "        print('lengthy')\n",
    "    else:\n",
    "        print(ls)\n",
    "    \n",
    "count_element(ls)"
   ]
  }
 ],
 "metadata": {
  "kernelspec": {
   "display_name": "Python 3 (ipykernel)",
   "language": "python",
   "name": "python3"
  },
  "language_info": {
   "codemirror_mode": {
    "name": "ipython",
    "version": 3
   },
   "file_extension": ".py",
   "mimetype": "text/x-python",
   "name": "python",
   "nbconvert_exporter": "python",
   "pygments_lexer": "ipython3",
   "version": "3.10.2"
  }
 },
 "nbformat": 4,
 "nbformat_minor": 5
}
