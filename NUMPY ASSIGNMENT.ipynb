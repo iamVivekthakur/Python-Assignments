{
 "cells": [
  {
   "cell_type": "markdown",
   "id": "34ad6850",
   "metadata": {},
   "source": [
    "# NUMPY TEST"
   ]
  },
  {
   "cell_type": "markdown",
   "id": "155f0060",
   "metadata": {},
   "source": [
    "1. Create a 2 D array and convert it into 6 dimensions array with\n",
    "the help of dimensions argument?\n"
   ]
  },
  {
   "cell_type": "code",
   "execution_count": 1,
   "id": "7b1b048c",
   "metadata": {},
   "outputs": [],
   "source": [
    "import numpy as np"
   ]
  },
  {
   "cell_type": "code",
   "execution_count": 3,
   "id": "be7b20de",
   "metadata": {},
   "outputs": [
    {
     "name": "stdout",
     "output_type": "stream",
     "text": [
      "[[[[[[ 1  2  3  4  5]\n",
      "     [ 6  7  8  9 10]]]]]]\n"
     ]
    }
   ],
   "source": [
    "a = np.array([[1,2,3,4,5],[6,7,8,9,10]],ndmin=6)\n",
    "print(a)\n"
   ]
  },
  {
   "cell_type": "markdown",
   "id": "a7358a4c",
   "metadata": {},
   "source": [
    "2. Create a 4 D array and return any two elements in this array?"
   ]
  },
  {
   "cell_type": "code",
   "execution_count": 16,
   "id": "a9eefa7d",
   "metadata": {},
   "outputs": [],
   "source": [
    "a=np.array([[1,2,3,4],[5,6,7,8],[9,10,11,12],[13,14,15,16]])\n"
   ]
  },
  {
   "cell_type": "code",
   "execution_count": 22,
   "id": "e0309da2",
   "metadata": {},
   "outputs": [
    {
     "name": "stdout",
     "output_type": "stream",
     "text": [
      "[1 2 3 4]\n",
      "[5 6 7 8]\n"
     ]
    }
   ],
   "source": [
    "b=a[0]\n",
    "c=a[1]\n",
    "print(b)\n",
    "print(c)"
   ]
  },
  {
   "cell_type": "markdown",
   "id": "3db5c0c3",
   "metadata": {},
   "source": [
    "3. Create 4 arrays and put it into four dimensions and then return\n",
    "an array."
   ]
  },
  {
   "cell_type": "code",
   "execution_count": 19,
   "id": "6c733117",
   "metadata": {},
   "outputs": [
    {
     "name": "stdout",
     "output_type": "stream",
     "text": [
      "[1 2 3] [4 5 6] [7 8 9] [10 11 12]\n"
     ]
    }
   ],
   "source": [
    "a=np.array([1,2,3])\n",
    "b=np.array([4,5,6])\n",
    "c=np.array([7,8,9])\n",
    "d=np.array([10,11,12])\n",
    "print(a,b,c,d)\n"
   ]
  },
  {
   "cell_type": "markdown",
   "id": "25f774fa",
   "metadata": {},
   "source": [
    "4. Create an array with the help of arange function, array\n",
    "elements should be 8 and then return third fourth and fifth\n",
    "item from this array.\n"
   ]
  },
  {
   "cell_type": "code",
   "execution_count": 7,
   "id": "dbb3d999",
   "metadata": {},
   "outputs": [
    {
     "data": {
      "text/plain": [
       "array([ 1,  3,  5,  7,  9, 11, 13, 15])"
      ]
     },
     "execution_count": 7,
     "metadata": {},
     "output_type": "execute_result"
    }
   ],
   "source": [
    "a=np.arange(1,16,2)\n",
    "b=a[2]\n",
    "a"
   ]
  },
  {
   "cell_type": "code",
   "execution_count": 8,
   "id": "3e170acc",
   "metadata": {},
   "outputs": [
    {
     "data": {
      "text/plain": [
       "(5, 7, 9)"
      ]
     },
     "execution_count": 8,
     "metadata": {},
     "output_type": "execute_result"
    }
   ],
   "source": [
    "a[2],a[3],a[4]"
   ]
  },
  {
   "cell_type": "markdown",
   "id": "cc8383db",
   "metadata": {},
   "source": [
    "5. Create two arrays with the help of arange function and\n",
    "concatenate these arrays, and arrays elements should not be\n",
    "zero."
   ]
  },
  {
   "cell_type": "code",
   "execution_count": 12,
   "id": "0385b014",
   "metadata": {},
   "outputs": [
    {
     "name": "stdout",
     "output_type": "stream",
     "text": [
      "[ 1  2  3  4  5  6  7  8  9 10]\n"
     ]
    }
   ],
   "source": [
    "a=np.arange(1,6)\n",
    "b=np.arange(6,11)\n",
    "c=np.concatenate((a,b))\n",
    "print(c)\n"
   ]
  },
  {
   "cell_type": "markdown",
   "id": "507b798f",
   "metadata": {},
   "source": [
    "6. x = np. array ([2,1,5,7,0.4,3J])\n",
    "change this arrays elements into string"
   ]
  },
  {
   "cell_type": "code",
   "execution_count": 21,
   "id": "ee8c5cc3",
   "metadata": {},
   "outputs": [
    {
     "name": "stdout",
     "output_type": "stream",
     "text": [
      "['2' '1' '5' '7' '0' '4' '3j' 'xyz']\n"
     ]
    }
   ],
   "source": [
    "x =np.array([2,1,5,7,0,4,3j,'xyz'])\n",
    "print(x)\n"
   ]
  },
  {
   "cell_type": "markdown",
   "id": "c9edfad7",
   "metadata": {},
   "source": [
    "7. x = np.array([[[[[1,2,3,4,5]]]]]) find the dimensions of this array."
   ]
  },
  {
   "cell_type": "code",
   "execution_count": 24,
   "id": "e9fbfc1a",
   "metadata": {},
   "outputs": [
    {
     "data": {
      "text/plain": [
       "5"
      ]
     },
     "execution_count": 24,
     "metadata": {},
     "output_type": "execute_result"
    }
   ],
   "source": [
    "x = np.array([[[[[1,2,3,4,5]]]]]) \n",
    "np.ndim(x)"
   ]
  },
  {
   "cell_type": "markdown",
   "id": "a640df3c",
   "metadata": {},
   "source": [
    "8. x = np.array([[[1,2,3,4,5],[6,7,8,9,10]]]) tell me the shape of this\n",
    "array."
   ]
  },
  {
   "cell_type": "code",
   "execution_count": 25,
   "id": "34d70cc6",
   "metadata": {},
   "outputs": [
    {
     "data": {
      "text/plain": [
       "(1, 2, 5)"
      ]
     },
     "execution_count": 25,
     "metadata": {},
     "output_type": "execute_result"
    }
   ],
   "source": [
    "x = np.array([[[1,2,3,4,5],[6,7,8,9,10]]])\n",
    "np.shape(x)"
   ]
  },
  {
   "cell_type": "markdown",
   "id": "68e27c5c",
   "metadata": {},
   "source": [
    "9. x = np.array([1, 2, 3, 4, 5, 6, 7, 8, 9, 10, 11, 12]) create two\n",
    "shapes of this 1D array, change it into 2 D array and 3 D array."
   ]
  },
  {
   "cell_type": "code",
   "execution_count": 2,
   "id": "8f9821ad",
   "metadata": {},
   "outputs": [
    {
     "data": {
      "text/plain": [
       "array([[ 1,  2,  3,  4],\n",
       "       [ 5,  6,  7,  8],\n",
       "       [ 9, 10, 11, 12]])"
      ]
     },
     "execution_count": 2,
     "metadata": {},
     "output_type": "execute_result"
    }
   ],
   "source": [
    "x = np.array([1, 2, 3, 4, 5, 6, 7, 8, 9, 10, 11, 12])\n",
    "y=np.reshape(x,(3,4))\n",
    "y"
   ]
  },
  {
   "cell_type": "code",
   "execution_count": 3,
   "id": "412fcfee",
   "metadata": {},
   "outputs": [
    {
     "data": {
      "text/plain": [
       "array([[[ 1,  2,  3,  4],\n",
       "        [ 5,  6,  7,  8],\n",
       "        [ 9, 10, 11, 12]]])"
      ]
     },
     "execution_count": 3,
     "metadata": {},
     "output_type": "execute_result"
    }
   ],
   "source": [
    "x = np.array([1, 2, 3, 4, 5, 6, 7, 8, 9, 10, 11, 12])\n",
    "y=np.reshape(x,(1,3,4))\n",
    "y"
   ]
  },
  {
   "cell_type": "code",
   "execution_count": 41,
   "id": "0807e239",
   "metadata": {},
   "outputs": [
    {
     "data": {
      "text/plain": [
       "2"
      ]
     },
     "execution_count": 41,
     "metadata": {},
     "output_type": "execute_result"
    }
   ],
   "source": [
    "np.ndim(y)"
   ]
  },
  {
   "cell_type": "markdown",
   "id": "ac9a4656",
   "metadata": {},
   "source": [
    "10. Check the size of this array\n",
    "x = np.array([[[[1,2,3,4,5],[6,7,8,9,10],[11,12,13,14,15]]]])"
   ]
  },
  {
   "cell_type": "code",
   "execution_count": 42,
   "id": "d5d28dc8",
   "metadata": {},
   "outputs": [
    {
     "data": {
      "text/plain": [
       "15"
      ]
     },
     "execution_count": 42,
     "metadata": {},
     "output_type": "execute_result"
    }
   ],
   "source": [
    "x = np.array([[[[1,2,3,4,5],[6,7,8,9,10],[11,12,13,14,15]]]])\n",
    "np.size(x)"
   ]
  },
  {
   "cell_type": "markdown",
   "id": "13df7283",
   "metadata": {},
   "source": [
    "11. Change the position of this array\n",
    "x = np.array([[1, 2, 3, 4], [5, 6, 7, 8]])\n"
   ]
  },
  {
   "cell_type": "code",
   "execution_count": 43,
   "id": "bf672a61",
   "metadata": {},
   "outputs": [
    {
     "data": {
      "text/plain": [
       "array([[1, 5],\n",
       "       [2, 6],\n",
       "       [3, 7],\n",
       "       [4, 8]])"
      ]
     },
     "execution_count": 43,
     "metadata": {},
     "output_type": "execute_result"
    }
   ],
   "source": [
    "x = np.array([[1, 2, 3, 4], [5, 6, 7, 8]])\n",
    "np.transpose(x)"
   ]
  },
  {
   "cell_type": "markdown",
   "id": "11c0bf45",
   "metadata": {},
   "source": [
    "12. Create a matrix of 12 take shape as you want, and add 4\n",
    "with this matrix and then * 3 with this matrix."
   ]
  },
  {
   "cell_type": "code",
   "execution_count": 45,
   "id": "5a9e0c4d",
   "metadata": {},
   "outputs": [
    {
     "name": "stdout",
     "output_type": "stream",
     "text": [
      "[[48 48 48]\n",
      " [48 48 48]\n",
      " [48 48 48]\n",
      " [48 48 48]]\n",
      "[[16 16 16]\n",
      " [16 16 16]\n",
      " [16 16 16]\n",
      " [16 16 16]]\n"
     ]
    }
   ],
   "source": [
    "x=np.full((4,3),12)\n",
    "y= x+4\n",
    "z = y*3\n",
    "print(z)\n",
    "print(y)\n"
   ]
  },
  {
   "cell_type": "markdown",
   "id": "aa606f44",
   "metadata": {},
   "source": [
    "13. Initialize a numpy array with random number return 10\n",
    "numbers and multiply these numbers with 5."
   ]
  },
  {
   "cell_type": "code",
   "execution_count": 8,
   "id": "c75e4b46",
   "metadata": {},
   "outputs": [
    {
     "data": {
      "text/plain": [
       "array([[120, 295],\n",
       "       [220, 320],\n",
       "       [100, 185],\n",
       "       [435, 260],\n",
       "       [430, 120]])"
      ]
     },
     "execution_count": 8,
     "metadata": {},
     "output_type": "execute_result"
    }
   ],
   "source": [
    "b=np.random.randint(10,100,(5,2))\n",
    "c=b*5\n",
    "c\n"
   ]
  },
  {
   "cell_type": "markdown",
   "id": "d773596d",
   "metadata": {},
   "source": [
    "14. Create a matrix with zeros() and add 10 in this matrix take\n",
    "5 columns and 6 rows.\n"
   ]
  },
  {
   "cell_type": "code",
   "execution_count": 9,
   "id": "c1b65615",
   "metadata": {},
   "outputs": [
    {
     "name": "stdout",
     "output_type": "stream",
     "text": [
      "[[0. 0. 0. 0. 0. 0.]\n",
      " [0. 0. 0. 0. 0. 0.]\n",
      " [0. 0. 0. 0. 0. 0.]\n",
      " [0. 0. 0. 0. 0. 0.]\n",
      " [0. 0. 0. 0. 0. 0.]]\n",
      "[[10. 10. 10. 10. 10. 10.]\n",
      " [10. 10. 10. 10. 10. 10.]\n",
      " [10. 10. 10. 10. 10. 10.]\n",
      " [10. 10. 10. 10. 10. 10.]\n",
      " [10. 10. 10. 10. 10. 10.]]\n"
     ]
    }
   ],
   "source": [
    "x= np.zeros((5,6))\n",
    "print(x)\n",
    "y = x+10\n",
    "print(y)"
   ]
  },
  {
   "cell_type": "markdown",
   "id": "6a554605",
   "metadata": {},
   "source": [
    "15. Create a matrix with the ones and dimensions should be\n",
    "five take 5 rows and 6 columns and perform any two arithmetic\n",
    "operations as per your choice with this matrix.\n"
   ]
  },
  {
   "cell_type": "code",
   "execution_count": 23,
   "id": "b07d8323",
   "metadata": {},
   "outputs": [
    {
     "name": "stdout",
     "output_type": "stream",
     "text": [
      "[[1. 1. 1. 1. 1.]\n",
      " [1. 1. 1. 1. 1.]\n",
      " [1. 1. 1. 1. 1.]\n",
      " [1. 1. 1. 1. 1.]\n",
      " [1. 1. 1. 1. 1.]\n",
      " [1. 1. 1. 1. 1.]]\n",
      "[[5. 5. 5. 5. 5.]\n",
      " [5. 5. 5. 5. 5.]\n",
      " [5. 5. 5. 5. 5.]\n",
      " [5. 5. 5. 5. 5.]\n",
      " [5. 5. 5. 5. 5.]\n",
      " [5. 5. 5. 5. 5.]]\n"
     ]
    },
    {
     "data": {
      "text/plain": [
       "array([[8., 8., 8., 8., 8.],\n",
       "       [8., 8., 8., 8., 8.],\n",
       "       [8., 8., 8., 8., 8.],\n",
       "       [8., 8., 8., 8., 8.],\n",
       "       [8., 8., 8., 8., 8.],\n",
       "       [8., 8., 8., 8., 8.]])"
      ]
     },
     "execution_count": 23,
     "metadata": {},
     "output_type": "execute_result"
    }
   ],
   "source": [
    "a=np.ones((6,5))\n",
    "b=a*5\n",
    "c=a+7\n",
    "print(a)\n",
    "print(b)\n",
    "c"
   ]
  },
  {
   "cell_type": "markdown",
   "id": "080ebeb7",
   "metadata": {},
   "source": [
    "16. create a mtrix with the help of eye method and do\n",
    "multiplication with this matrix, to any random number."
   ]
  },
  {
   "cell_type": "code",
   "execution_count": 27,
   "id": "aaea854a",
   "metadata": {},
   "outputs": [
    {
     "data": {
      "text/plain": [
       "array([[5., 0., 0., 0.],\n",
       "       [0., 5., 0., 0.],\n",
       "       [0., 0., 5., 0.],\n",
       "       [0., 0., 0., 5.]])"
      ]
     },
     "execution_count": 27,
     "metadata": {},
     "output_type": "execute_result"
    }
   ],
   "source": [
    "a=np.eye(4)\n",
    "b=a*5\n",
    "b"
   ]
  },
  {
   "cell_type": "markdown",
   "id": "0c427a6a",
   "metadata": {},
   "source": [
    "17. Create an array with the help of arange function and\n",
    "reshape this array and create a matrix and then find\n",
    "the diagonal values, and with the diagonal values do any two\n",
    "arithmetic calculations."
   ]
  },
  {
   "cell_type": "code",
   "execution_count": 18,
   "id": "69b3eb7f",
   "metadata": {},
   "outputs": [
    {
     "name": "stdout",
     "output_type": "stream",
     "text": [
      "The diagonal value :  [1 5 9]\n",
      "After adding 4 to diagonal gives this  value :  [ 5  9 13]\n",
      "After multiplying 4 to diagonal gives this value :  [ 4 20 36]\n"
     ]
    }
   ],
   "source": [
    "a=np.arange(1,13,1)\n",
    "b=np.reshape(a,(4,3))\n",
    "c=np.diag(b)\n",
    "add=c+4\n",
    "mul=c*4\n",
    "print('The diagonal value : ', c)\n",
    "print('After adding 4 to diagonal gives this  value : ', add)\n",
    "print(\"After multiplying 4 to diagonal gives this value : \" , mul)"
   ]
  },
  {
   "cell_type": "markdown",
   "id": "d2fd6a22",
   "metadata": {},
   "source": [
    " 18. Create two arrays and stacking these array column wise\n",
    "and row wise"
   ]
  },
  {
   "cell_type": "code",
   "execution_count": 19,
   "id": "d8d6cdb6",
   "metadata": {},
   "outputs": [
    {
     "name": "stdout",
     "output_type": "stream",
     "text": [
      "This stack is column wise :  [[ 1  6]\n",
      " [ 2  7]\n",
      " [ 3  8]\n",
      " [ 4  9]\n",
      " [ 5 10]]\n",
      "This stack is row wise :  [[ 1  2  3  4  5]\n",
      " [ 6  7  8  9 10]]\n"
     ]
    }
   ],
   "source": [
    "a=np.array([1,2,3,4,5])\n",
    "b=np.array([6,7,8,9,10])\n",
    "c=np.column_stack((a,b))\n",
    "d=np.row_stack((a,b))\n",
    "print('This stack is column wise : ', c)\n",
    "print('This stack is row wise : ', d)"
   ]
  },
  {
   "cell_type": "markdown",
   "id": "9c4209b8",
   "metadata": {},
   "source": [
    "19. Split this 2D array into 3D array\n",
    "x = np.array([[1, 2], [3, 4], [5, 6], [7, 8], [9, 10], [11, 12]])"
   ]
  },
  {
   "cell_type": "code",
   "execution_count": 21,
   "id": "19048955",
   "metadata": {},
   "outputs": [
    {
     "data": {
      "text/plain": [
       "[array([1, 2, 3, 4]), array([], dtype=int32), array([4, 5])]"
      ]
     },
     "execution_count": 21,
     "metadata": {},
     "output_type": "execute_result"
    }
   ],
   "source": [
    "x=np.array([[1, 2], [3, 4], [5, 6], [7, 8], [9, 10], [11, 12]])\n",
    "np.split(a,(4,3))\n"
   ]
  },
  {
   "cell_type": "markdown",
   "id": "33315f11",
   "metadata": {},
   "source": [
    "20. Find the data type of this array\n",
    " x = np. array ([\"abc\",1,5,4.0])"
   ]
  },
  {
   "cell_type": "code",
   "execution_count": 23,
   "id": "1620cfa4",
   "metadata": {},
   "outputs": [
    {
     "data": {
      "text/plain": [
       "dtype('<U32')"
      ]
     },
     "execution_count": 23,
     "metadata": {},
     "output_type": "execute_result"
    }
   ],
   "source": [
    "x = np. array ([\"abc\",1,5,4.0])\n",
    "x.dtype"
   ]
  }
 ],
 "metadata": {
  "kernelspec": {
   "display_name": "Python 3 (ipykernel)",
   "language": "python",
   "name": "python3"
  },
  "language_info": {
   "codemirror_mode": {
    "name": "ipython",
    "version": 3
   },
   "file_extension": ".py",
   "mimetype": "text/x-python",
   "name": "python",
   "nbconvert_exporter": "python",
   "pygments_lexer": "ipython3",
   "version": "3.10.2"
  }
 },
 "nbformat": 4,
 "nbformat_minor": 5
}
