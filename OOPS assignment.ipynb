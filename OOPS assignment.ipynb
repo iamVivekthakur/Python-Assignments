{
 "cells": [
  {
   "cell_type": "markdown",
   "id": "0da6078a",
   "metadata": {},
   "source": [
    "# OOPS ASSIGNMENT"
   ]
  },
  {
   "cell_type": "markdown",
   "id": "ca3115a9",
   "metadata": {},
   "source": [
    "1. Create a class and make two methods in this class. In first\n",
    "method print a table of any random number and in second\n",
    "method print a list. Take user input."
   ]
  },
  {
   "cell_type": "code",
   "execution_count": 1,
   "id": "24e7e750",
   "metadata": {},
   "outputs": [
    {
     "name": "stdout",
     "output_type": "stream",
     "text": [
      "Enter any number? 2\n",
      "2\n",
      "4\n",
      "6\n",
      "8\n",
      "10\n",
      "12\n",
      "14\n",
      "16\n",
      "18\n",
      "20\n",
      "[1, 2, 3, 4, 'PYTHON']\n"
     ]
    }
   ],
   "source": [
    "class x:\n",
    "    a=int(input('Enter any number? '))\n",
    "    for i in range(1,11):\n",
    "        print(i*a)\n",
    "    def y(self):\n",
    "        v=[1,2,3,4,'PYTHON']\n",
    "        print(v)\n",
    "\n",
    "t=x()\n",
    "t.y()\n",
    "      \n"
   ]
  },
  {
   "cell_type": "markdown",
   "id": "37e431a3",
   "metadata": {},
   "source": [
    "2. Create a class and make three methods in this class. In Frist\n",
    "method use __init__ function and print (“Honesty is the best\n",
    "policy”), in second method print a tuple with the help of while\n",
    "loop, and in third method find the exponent. Take user input as\n",
    "per your requirement. Create two objects in this class."
   ]
  },
  {
   "cell_type": "code",
   "execution_count": 2,
   "id": "b049161f",
   "metadata": {},
   "outputs": [
    {
     "name": "stdout",
     "output_type": "stream",
     "text": [
      "Honesty is the best policy\n",
      "Enter any number? 5\n",
      "while loop 5\n",
      "while loop 4\n",
      "while loop 3\n",
      "while loop 2\n",
      "while loop 1\n",
      "125\n"
     ]
    }
   ],
   "source": [
    "class x:\n",
    "    def first(self):\n",
    "        print('Honesty is the best policy')\n",
    "        \n",
    "    def second(self):\n",
    "        i=int(input('Enter any number? '))\n",
    "        while i:\n",
    "            print('while loop',i)\n",
    "            i=i-1\n",
    "            \n",
    "    def third(self,a,b):\n",
    "        self.a=a\n",
    "        self.b=b\n",
    "        self.c=a**b\n",
    "        \n",
    "t=x()\n",
    "t.first()\n",
    "t.second()\n",
    "t.third(5,3)\n",
    "print(t.c)\n",
    "\n",
    "        \n",
    "    \n",
    "    "
   ]
  },
  {
   "cell_type": "markdown",
   "id": "46364186",
   "metadata": {},
   "source": [
    "3. Create two classes, first class inherited by the second class,\n",
    "create two methods in first class as per your choice, and create\n",
    "two methods in second class, in first method print any\n",
    "statement, in second method do multiplication. Use __init__\n",
    "function and super(). Function. Take arguments as per your\n",
    "requirement"
   ]
  },
  {
   "cell_type": "code",
   "execution_count": 43,
   "id": "81d03703",
   "metadata": {},
   "outputs": [
    {
     "name": "stdout",
     "output_type": "stream",
     "text": [
      "30\n",
      "you are best\n",
      "800\n",
      "[1, 2, 3, 'Vivek']\n"
     ]
    }
   ],
   "source": [
    "class x:\n",
    "    def __init__(self,a,b):\n",
    "        self.a=a\n",
    "        self.b=b\n",
    "        self.add=a+b\n",
    "    def Q(self):\n",
    "        print('you are best')\n",
    "    \n",
    "class y(x):\n",
    "    def __init__(self,a,b,p,q):\n",
    "        super(). __init__(a,b)\n",
    "        self.p=p\n",
    "        self.q=q\n",
    "        self.mul=p*q\n",
    "        \n",
    "    def Z(self):\n",
    "        v=[1,2,3,'Vivek']\n",
    "        print(v)\n",
    "        \n",
    "t=y(10,20,40,20)\n",
    "print(t.add)\n",
    "t.Q()\n",
    "print(t.mul)\n",
    "t.Z()\n",
    "\n",
    "\n",
    "        "
   ]
  },
  {
   "cell_type": "markdown",
   "id": "467b8174",
   "metadata": {},
   "source": [
    "4. Create classes and do a programme which shows multiple\n",
    "inheritance. Create methods in this classes as per your choice."
   ]
  },
  {
   "cell_type": "code",
   "execution_count": 5,
   "id": "b9db3bc5",
   "metadata": {},
   "outputs": [
    {
     "name": "stdout",
     "output_type": "stream",
     "text": [
      "200\n",
      "you are best\n",
      "70\n"
     ]
    }
   ],
   "source": [
    "class parent_1:\n",
    "    def x1(self,a,b):\n",
    "        self.a=a\n",
    "        self.b=b\n",
    "        self.mul=a*b\n",
    "        \n",
    "class parent_2:\n",
    "    def x2(self):\n",
    "        print('you are best')\n",
    "        \n",
    "class y(parent_1,parent_2):\n",
    "    def __init__(self,a,b,p,q):\n",
    "        super().x1(a,b)\n",
    "        self.p=p\n",
    "        self.q=q\n",
    "        self.add=p+q\n",
    "        \n",
    "        \n",
    "t=y(10,20,30,40)\n",
    "print(t.mul)\n",
    "t.x2()\n",
    "print(t.add)\n"
   ]
  },
  {
   "cell_type": "markdown",
   "id": "bc961213",
   "metadata": {},
   "source": [
    "5. Create classes and do a programme which shows multilevel\n",
    "inheritance. Create methods in this classes as per your choice."
   ]
  },
  {
   "cell_type": "code",
   "execution_count": 21,
   "id": "d2ef98a6",
   "metadata": {},
   "outputs": [
    {
     "name": "stdout",
     "output_type": "stream",
     "text": [
      "this fuction is running\n",
      "Enter value of v? 50\n",
      "Enter the value of j? 20\n",
      "125\n",
      "70\n"
     ]
    }
   ],
   "source": [
    "class parent:\n",
    "    def x1(self,a,b):\n",
    "        self.a=a\n",
    "        self.b=b\n",
    "        self.exp=a**b\n",
    "        \n",
    "class child_1(parent):\n",
    "    print('this fuction is running')\n",
    "class child_2(child_1):\n",
    "    def __init__(self,a,b):\n",
    "        super().x1(a,b)\n",
    "        v=int(input('Enter value of v? '))\n",
    "        j=int(input('Enter the value of j? '))\n",
    "        self.add=v+j\n",
    "        \n",
    "t=child_2(5,3)\n",
    "print(t.exp)\n",
    "print(t.add)\n",
    "\n"
   ]
  },
  {
   "cell_type": "markdown",
   "id": "e24be6cb",
   "metadata": {},
   "source": [
    "OR"
   ]
  },
  {
   "cell_type": "code",
   "execution_count": 23,
   "id": "7e3d8db8",
   "metadata": {},
   "outputs": [
    {
     "name": "stdout",
     "output_type": "stream",
     "text": [
      "Enter value of v? 50\n",
      "Enter the value of j? 20\n",
      "125\n",
      "70\n",
      "10\n"
     ]
    }
   ],
   "source": [
    "class parent:\n",
    "    def x1(self,a,b):\n",
    "        self.a=a\n",
    "        self.b=b\n",
    "        self.exp=a**b\n",
    "        \n",
    "class child_1(parent):\n",
    "    def x2(self,p,q):\n",
    "        self.p=p\n",
    "        self.q=q\n",
    "        self.sub=p-q\n",
    "class child_2(child_1):\n",
    "    def __init__(self,a,b,p,q):\n",
    "        super().x1(a,b)\n",
    "        super().x2(p,q)\n",
    "        v=int(input('Enter value of v? '))\n",
    "        j=int(input('Enter the value of j? '))\n",
    "        self.add=v+j\n",
    "        \n",
    "t=child_2(5,3,40,30)\n",
    "print(t.exp)\n",
    "print(t.add)\n",
    "print(t.sub)"
   ]
  }
 ],
 "metadata": {
  "kernelspec": {
   "display_name": "Python 3 (ipykernel)",
   "language": "python",
   "name": "python3"
  },
  "language_info": {
   "codemirror_mode": {
    "name": "ipython",
    "version": 3
   },
   "file_extension": ".py",
   "mimetype": "text/x-python",
   "name": "python",
   "nbconvert_exporter": "python",
   "pygments_lexer": "ipython3",
   "version": "3.10.2"
  }
 },
 "nbformat": 4,
 "nbformat_minor": 5
}
