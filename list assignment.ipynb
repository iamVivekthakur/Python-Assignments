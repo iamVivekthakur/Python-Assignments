{
 "cells": [
  {
   "cell_type": "markdown",
   "id": "94b6cd85",
   "metadata": {},
   "source": [
    "# LIST ASSIGNMENT"
   ]
  },
  {
   "cell_type": "markdown",
   "id": "9e31791e",
   "metadata": {},
   "source": [
    "Q1). Reverse a list in Python?"
   ]
  },
  {
   "cell_type": "code",
   "execution_count": 2,
   "id": "8f514419",
   "metadata": {},
   "outputs": [],
   "source": [
    "ls=[1,2,3,4,5]"
   ]
  },
  {
   "cell_type": "code",
   "execution_count": 3,
   "id": "92355ced",
   "metadata": {},
   "outputs": [
    {
     "data": {
      "text/plain": [
       "[5, 4, 3, 2, 1]"
      ]
     },
     "execution_count": 3,
     "metadata": {},
     "output_type": "execute_result"
    }
   ],
   "source": [
    "ls.reverse()\n",
    "ls"
   ]
  },
  {
   "cell_type": "markdown",
   "id": "4e7278bc",
   "metadata": {},
   "source": [
    "Q2).Concatenate two lists index-wise"
   ]
  },
  {
   "cell_type": "code",
   "execution_count": 2,
   "id": "3b3a7ad6",
   "metadata": {},
   "outputs": [
    {
     "data": {
      "text/plain": [
       "[1, 2, 3, 4, 5, 6]"
      ]
     },
     "execution_count": 2,
     "metadata": {},
     "output_type": "execute_result"
    }
   ],
   "source": [
    "ls1=[1,2,3]\n",
    "ls2=[4,5,6]\n",
    "ls1+ls2"
   ]
  },
  {
   "cell_type": "markdown",
   "id": "8216d7cd",
   "metadata": {},
   "source": [
    "Q2).  Turn every item of a list into its square?\n"
   ]
  },
  {
   "cell_type": "code",
   "execution_count": 4,
   "id": "d31c6837",
   "metadata": {},
   "outputs": [],
   "source": [
    "ls=[1,2,3,4,5]"
   ]
  },
  {
   "cell_type": "code",
   "execution_count": 10,
   "id": "5dffc300",
   "metadata": {},
   "outputs": [
    {
     "name": "stdout",
     "output_type": "stream",
     "text": [
      "1 4 9 16 25 "
     ]
    }
   ],
   "source": [
    "for i in ls:\n",
    "    print(i**2,end=\" \")"
   ]
  },
  {
   "cell_type": "code",
   "execution_count": 4,
   "id": "0f30f801",
   "metadata": {},
   "outputs": [
    {
     "data": {
      "text/plain": [
       "[1, 4, 9, 16, 25]"
      ]
     },
     "execution_count": 4,
     "metadata": {},
     "output_type": "execute_result"
    }
   ],
   "source": [
    "ls=[1,2,3,4,5]\n",
    "r=[]\n",
    "for i in ls:\n",
    "    r.append(i**2)\n",
    "    \n",
    "r"
   ]
  },
  {
   "cell_type": "code",
   "execution_count": 5,
   "id": "324355d4",
   "metadata": {},
   "outputs": [
    {
     "data": {
      "text/plain": [
       "[1, 4, 9, 16, 25]"
      ]
     },
     "execution_count": 5,
     "metadata": {},
     "output_type": "execute_result"
    }
   ],
   "source": [
    "ls=[1,2,3,4,5]\n",
    "r=[]\n",
    "for i in ls:\n",
    "    r=r+[i**2]\n",
    "    \n",
    "r"
   ]
  },
  {
   "cell_type": "markdown",
   "id": "4aaeca45",
   "metadata": {},
   "source": [
    "Q3). Exercise 4: Concatenate two lists in the following order\n",
    "Given:\n",
    "list1 = [\"Hello \", \"take \"]\n",
    "list2 = [\"Dear\", \"Sir\"]\n",
    "output:['Hello Dear', 'Hello Sir', 'take Dear', 'take Sir']"
   ]
  },
  {
   "cell_type": "code",
   "execution_count": 10,
   "id": "de5a8a04",
   "metadata": {},
   "outputs": [],
   "source": [
    "ls1=[\"Hello\",\"take\"]\n",
    "ls2=[\"Dear\",\"Sir\"]"
   ]
  },
  {
   "cell_type": "code",
   "execution_count": 11,
   "id": "77168811",
   "metadata": {},
   "outputs": [
    {
     "data": {
      "text/plain": [
       "('Hello Dear', 'Hello Sir', 'take Dear', 'take Sir')"
      ]
     },
     "execution_count": 11,
     "metadata": {},
     "output_type": "execute_result"
    }
   ],
   "source": [
    "ls1[0] +\" \" + ls2[0] , ls1[0] + \" \" + ls2[1], ls1[1] + \" \"+ ls2[0] , ls1[1] + \" \" + ls2[1]"
   ]
  },
  {
   "cell_type": "code",
   "execution_count": 14,
   "id": "cf8a1aa2",
   "metadata": {},
   "outputs": [
    {
     "name": "stdout",
     "output_type": "stream",
     "text": [
      "['Hello Dear', 'Hello Sir', 'take Dear', 'take Sir']\n"
     ]
    }
   ],
   "source": [
    "ls1=[\"Hello\",\"take\"]\n",
    "ls2=[\"Dear\",\"Sir\"]\n",
    "ls=[]\n",
    "for x in ls1:\n",
    "    for y in ls2:\n",
    "        ls=ls+[x+\" \"+y]\n",
    "print(ls)"
   ]
  },
  {
   "cell_type": "markdown",
   "id": "51fa9c07",
   "metadata": {},
   "source": [
    "Exercise 5: Iterate both lists simultaneously\n",
    "\n",
    "given:\n",
    "list1 = [10, 20, 30, 40]\n",
    "list2 = [100, 200, 300, 400]\n",
    "output:\n",
    "10 400\n",
    "20 300\n",
    "30 200\n",
    "40 100"
   ]
  },
  {
   "cell_type": "code",
   "execution_count": 17,
   "id": "0ef255f8",
   "metadata": {},
   "outputs": [
    {
     "name": "stdout",
     "output_type": "stream",
     "text": [
      "10 400\n",
      "20 300\n",
      "30 200\n",
      "40 100\n"
     ]
    }
   ],
   "source": [
    "ls1=[10,20,30,40]\n",
    "ls2=[100,200,300,400]\n",
    "i=len(ls2)-1\n",
    "for j in ls1:\n",
    "    print(j, ls2[i])\n",
    "    i=i-1"
   ]
  },
  {
   "cell_type": "code",
   "execution_count": 18,
   "id": "e8d954f5",
   "metadata": {},
   "outputs": [
    {
     "name": "stdout",
     "output_type": "stream",
     "text": [
      "10 400\n",
      "20 300\n",
      "30 200\n",
      "40 100\n"
     ]
    }
   ],
   "source": [
    "ls1=[10,20,30,40]\n",
    "ls2=[100,200,300,400]\n",
    "i=-1\n",
    "for j in ls1:\n",
    "    print(j, ls2[i])\n",
    "    i=i-1\n",
    "    "
   ]
  },
  {
   "cell_type": "code",
   "execution_count": 20,
   "id": "c683cf21",
   "metadata": {},
   "outputs": [
    {
     "name": "stdout",
     "output_type": "stream",
     "text": [
      "(10, 400)\n",
      "(20, 300)\n",
      "(30, 200)\n",
      "(40, 100)\n"
     ]
    }
   ],
   "source": [
    "ls1=[10,20,30,40]\n",
    "ls2=[100,200,300,400]\n",
    "for data in zip(ls1,ls2[::-1]):\n",
    "    print(data)"
   ]
  },
  {
   "cell_type": "markdown",
   "id": "a36fa840",
   "metadata": {},
   "source": [
    "Exercise 6: Remove empty strings from the list of strings\n",
    "list1 = [\"Mike\", \"\", \"Emma\", \"Kelly\", \"\", \"Brad\"]\n",
    "output:\n",
    "[\"Mike\", \"Emma\", \"Kelly\", \"Brad\"]"
   ]
  },
  {
   "cell_type": "code",
   "execution_count": 31,
   "id": "ccbaeadc",
   "metadata": {},
   "outputs": [],
   "source": [
    "ls= [\"Mike\", \"\", \"Emma\", \"Kelly\", \"\", \"Brad\"] "
   ]
  },
  {
   "cell_type": "code",
   "execution_count": 38,
   "id": "1d05f2f3",
   "metadata": {},
   "outputs": [
    {
     "data": {
      "text/plain": [
       "''"
      ]
     },
     "execution_count": 38,
     "metadata": {},
     "output_type": "execute_result"
    }
   ],
   "source": [
    "ls.pop(1)"
   ]
  },
  {
   "cell_type": "code",
   "execution_count": 39,
   "id": "ebc0f74a",
   "metadata": {},
   "outputs": [
    {
     "data": {
      "text/plain": [
       "['Mike', 'Emma', 'Kelly', '', 'Brad']"
      ]
     },
     "execution_count": 39,
     "metadata": {},
     "output_type": "execute_result"
    }
   ],
   "source": [
    "ls"
   ]
  },
  {
   "cell_type": "code",
   "execution_count": 41,
   "id": "6ceb4e42",
   "metadata": {},
   "outputs": [
    {
     "data": {
      "text/plain": [
       "''"
      ]
     },
     "execution_count": 41,
     "metadata": {},
     "output_type": "execute_result"
    }
   ],
   "source": [
    "ls.pop(3)"
   ]
  },
  {
   "cell_type": "code",
   "execution_count": 42,
   "id": "666a34e9",
   "metadata": {},
   "outputs": [
    {
     "data": {
      "text/plain": [
       "['Mike', 'Emma', 'Kelly', 'Brad']"
      ]
     },
     "execution_count": 42,
     "metadata": {},
     "output_type": "execute_result"
    }
   ],
   "source": [
    "ls"
   ]
  },
  {
   "cell_type": "code",
   "execution_count": 40,
   "id": "3ffb8482",
   "metadata": {},
   "outputs": [
    {
     "data": {
      "text/plain": [
       "['Mike', 'Emma', 'Kelly', 'Brad']"
      ]
     },
     "execution_count": 40,
     "metadata": {},
     "output_type": "execute_result"
    }
   ],
   "source": [
    "ls= [\"Mike\", \"\", \"Emma\", \"Kelly\", \"\", \"Brad\"] \n",
    "for s in ls:\n",
    "    if not s:\n",
    "        ls.remove(s)\n",
    "ls"
   ]
  },
  {
   "cell_type": "code",
   "execution_count": 42,
   "id": "31f2d9f9",
   "metadata": {},
   "outputs": [
    {
     "data": {
      "text/plain": [
       "['Mike', 'Emma', 'Kelly', 'Brad']"
      ]
     },
     "execution_count": 42,
     "metadata": {},
     "output_type": "execute_result"
    }
   ],
   "source": [
    "ls= [\"Mike\", \"\", \"Emma\", \"Kelly\", \"\", \"Brad\"] \n",
    "count=ls.count(\"\")\n",
    "for i in range(count):\n",
    "    ls.remove(\"\")\n",
    "ls"
   ]
  },
  {
   "cell_type": "markdown",
   "id": "047e043b",
   "metadata": {},
   "source": [
    "Exercise 7: Add new item to list after a specified item\n",
    "Write a program to add item 7000 after 6000 in the following Python List\n",
    "given:\n",
    "list1 = [10, 20, [300, 400, [5000, 6000], 500], 30, 40]\n",
    "\n",
    "output:[10, 20, [300, 400, [5000, 6000, 7000], 500], 30, 40]"
   ]
  },
  {
   "cell_type": "code",
   "execution_count": 47,
   "id": "af1e8951",
   "metadata": {},
   "outputs": [],
   "source": [
    "a=[10, 20, [300, 400, [5000, 6000], 500], 30, 40]"
   ]
  },
  {
   "cell_type": "code",
   "execution_count": 50,
   "id": "7d44c849",
   "metadata": {},
   "outputs": [],
   "source": [
    "a[2][2]=a[2][2]+[7000]"
   ]
  },
  {
   "cell_type": "code",
   "execution_count": 51,
   "id": "64a09215",
   "metadata": {},
   "outputs": [
    {
     "data": {
      "text/plain": [
       "[10, 20, [300, 400, [5000, 6000, 7000], 500], 30, 40]"
      ]
     },
     "execution_count": 51,
     "metadata": {},
     "output_type": "execute_result"
    }
   ],
   "source": [
    "a"
   ]
  },
  {
   "cell_type": "markdown",
   "id": "d1d622dd",
   "metadata": {},
   "source": [
    "Exercise 8: Extend nested list by adding the sublist?"
   ]
  },
  {
   "cell_type": "code",
   "execution_count": 55,
   "id": "2cd117cf",
   "metadata": {},
   "outputs": [],
   "source": [
    "ls=[1,2,3,4]\n"
   ]
  },
  {
   "cell_type": "code",
   "execution_count": 56,
   "id": "ce1f849c",
   "metadata": {},
   "outputs": [
    {
     "data": {
      "text/plain": [
       "[1, 2, 3, 4]"
      ]
     },
     "execution_count": 56,
     "metadata": {},
     "output_type": "execute_result"
    }
   ],
   "source": [
    "ls"
   ]
  },
  {
   "cell_type": "code",
   "execution_count": 57,
   "id": "0c81102c",
   "metadata": {},
   "outputs": [],
   "source": [
    "ls2=[5,4,8,9]"
   ]
  },
  {
   "cell_type": "code",
   "execution_count": 58,
   "id": "f4d0a4f9",
   "metadata": {},
   "outputs": [
    {
     "data": {
      "text/plain": [
       "[5, 4, 8, 9]"
      ]
     },
     "execution_count": 58,
     "metadata": {},
     "output_type": "execute_result"
    }
   ],
   "source": [
    "ls2"
   ]
  },
  {
   "cell_type": "code",
   "execution_count": 71,
   "id": "6f5091b1",
   "metadata": {},
   "outputs": [],
   "source": [
    "def extends(ls,ls2):\n",
    "    return ls,ls2"
   ]
  },
  {
   "cell_type": "code",
   "execution_count": 72,
   "id": "5815134d",
   "metadata": {},
   "outputs": [
    {
     "data": {
      "text/plain": [
       "([1, 2, 3, 4], [5, 4, 8, 9])"
      ]
     },
     "execution_count": 72,
     "metadata": {},
     "output_type": "execute_result"
    }
   ],
   "source": [
    "extends(ls,ls2)"
   ]
  },
  {
   "cell_type": "markdown",
   "id": "c425ee7a",
   "metadata": {},
   "source": [
    "Exercise 9: Replace list’s item with new value if found\n",
    "\n",
    "list1 = [5, 10, 15, 20, 25, 50, 20]\n",
    "out:[5, 10, 15, 200, 25, 50, 20]"
   ]
  },
  {
   "cell_type": "code",
   "execution_count": 73,
   "id": "8a3a5d72",
   "metadata": {},
   "outputs": [],
   "source": [
    "ls= [5, 10, 15, 20, 25, 50, 20]"
   ]
  },
  {
   "cell_type": "code",
   "execution_count": 75,
   "id": "9ffd9352",
   "metadata": {},
   "outputs": [],
   "source": [
    "ls[3]=200"
   ]
  },
  {
   "cell_type": "code",
   "execution_count": 76,
   "id": "741d61ba",
   "metadata": {},
   "outputs": [
    {
     "data": {
      "text/plain": [
       "[5, 10, 15, 200, 25, 50, 20]"
      ]
     },
     "execution_count": 76,
     "metadata": {},
     "output_type": "execute_result"
    }
   ],
   "source": [
    "ls"
   ]
  },
  {
   "cell_type": "markdown",
   "id": "8bd46ff1",
   "metadata": {},
   "source": [
    "Exercise 10: Remove all occurrences of a specific item from a list.\n",
    "\n",
    "Given a Python list, write a program to remove all occurrences of item 20.\n",
    "\n",
    "Given:\n",
    "\n",
    "list1 = [5, 20, 15, 20, 25, 50, 20]\n",
    "out:\n",
    "[5, 15, 25, 50]"
   ]
  },
  {
   "cell_type": "code",
   "execution_count": 77,
   "id": "8b8ce007",
   "metadata": {},
   "outputs": [],
   "source": [
    "ls = [5, 20, 15, 20, 25, 50, 20]\n",
    "a=20\n",
    "\n",
    "for i,v in enumerate(ls):\n",
    "    \n",
    "    if v==a:\n",
    "        del ls[i]\n",
    "        \n"
   ]
  },
  {
   "cell_type": "code",
   "execution_count": 78,
   "id": "9fff4f59",
   "metadata": {},
   "outputs": [
    {
     "data": {
      "text/plain": [
       "[5, 15, 25, 50]"
      ]
     },
     "execution_count": 78,
     "metadata": {},
     "output_type": "execute_result"
    }
   ],
   "source": [
    "ls"
   ]
  },
  {
   "cell_type": "code",
   "execution_count": null,
   "id": "9e8d51b0",
   "metadata": {},
   "outputs": [],
   "source": []
  }
 ],
 "metadata": {
  "kernelspec": {
   "display_name": "Python 3 (ipykernel)",
   "language": "python",
   "name": "python3"
  },
  "language_info": {
   "codemirror_mode": {
    "name": "ipython",
    "version": 3
   },
   "file_extension": ".py",
   "mimetype": "text/x-python",
   "name": "python",
   "nbconvert_exporter": "python",
   "pygments_lexer": "ipython3",
   "version": "3.10.2"
  }
 },
 "nbformat": 4,
 "nbformat_minor": 5
}
