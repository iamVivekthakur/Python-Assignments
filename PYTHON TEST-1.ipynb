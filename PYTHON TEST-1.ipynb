{
 "cells": [
  {
   "cell_type": "markdown",
   "id": "0dce8220",
   "metadata": {},
   "source": [
    "# TEST BY VIVEK THAKUR"
   ]
  },
  {
   "cell_type": "markdown",
   "id": "bd615ce1",
   "metadata": {},
   "source": [
    "1. Print a list with the help of while loop.\n",
    "Days = [“Sunday”, “Monday”, “Tuesday”, “Wednesday”, “Thursday”, “Friday”, “Saturday”]\n"
   ]
  },
  {
   "cell_type": "code",
   "execution_count": 1,
   "id": "f20bd6de",
   "metadata": {},
   "outputs": [
    {
     "name": "stdout",
     "output_type": "stream",
     "text": [
      "Sunday\n",
      "Monday\n",
      "Tuesday\n",
      "Wednesday\n",
      "Thursday\n",
      "Friday\n",
      "Saturday\n"
     ]
    }
   ],
   "source": [
    "days = 0\n",
    "week = [\"Sunday\",\"Monday\", \"Tuesday\", \"Wednesday\", \"Thursday\", \"Friday\", \"Saturday\"]\n",
    "while days < 7:\n",
    "    print(week[days])\n",
    "    days= days + 1"
   ]
  },
  {
   "cell_type": "markdown",
   "id": "73efa336",
   "metadata": {},
   "source": [
    "Calculate Area of circle?"
   ]
  },
  {
   "cell_type": "code",
   "execution_count": 2,
   "id": "7e96e31c",
   "metadata": {},
   "outputs": [
    {
     "name": "stdout",
     "output_type": "stream",
     "text": [
      "The area is :  616.0\n"
     ]
    }
   ],
   "source": [
    "r=14\n",
    "pi=(22/7)\n",
    "\n",
    "area= pi*(r**2)\n",
    "print(\"The area is : \", area)"
   ]
  },
  {
   "cell_type": "markdown",
   "id": "989e9944",
   "metadata": {},
   "source": [
    "find the number is positive, negative and zero?"
   ]
  },
  {
   "cell_type": "code",
   "execution_count": 3,
   "id": "dc66d587",
   "metadata": {},
   "outputs": [
    {
     "name": "stdout",
     "output_type": "stream",
     "text": [
      "Enter any number ? 0\n",
      "zero\n"
     ]
    }
   ],
   "source": [
    "n= int(input(\"Enter any number ? \"))\n",
    "\n",
    "if n>0:\n",
    "     print(\"positive\")\n",
    "elif n<0:\n",
    "   print('negative')\n",
    "else:\n",
    "   print('zero') "
   ]
  },
  {
   "cell_type": "markdown",
   "id": "d04829df",
   "metadata": {},
   "source": [
    "Print first twenty natural number?\n"
   ]
  },
  {
   "cell_type": "code",
   "execution_count": 5,
   "id": "a36cebef",
   "metadata": {},
   "outputs": [
    {
     "name": "stdout",
     "output_type": "stream",
     "text": [
      "1 2 3 4 5 6 7 8 9 10 11 12 13 14 15 16 17 18 19 20 "
     ]
    }
   ],
   "source": [
    "for i in range(1,21):\n",
    "  print(i,end=\" \")"
   ]
  },
  {
   "cell_type": "markdown",
   "id": "15268610",
   "metadata": {},
   "source": [
    "Create function and print table of any random number?\n"
   ]
  },
  {
   "cell_type": "code",
   "execution_count": 8,
   "id": "49815003",
   "metadata": {},
   "outputs": [
    {
     "name": "stdout",
     "output_type": "stream",
     "text": [
      "enter any number? 17\n",
      "17\n",
      "34\n",
      "51\n",
      "68\n",
      "85\n",
      "102\n",
      "119\n",
      "136\n",
      "153\n",
      "170\n"
     ]
    }
   ],
   "source": [
    "a=int(input(\"enter any number? \"))\n",
    "\n",
    "for i in range(1,11):\n",
    "    print(i*a)"
   ]
  },
  {
   "cell_type": "markdown",
   "id": "94d3da21",
   "metadata": {},
   "source": [
    "Create two function and calculate Simple Interest and Volume of Cuboid. And call first\n",
    "Cuboid then Simple interest."
   ]
  },
  {
   "cell_type": "code",
   "execution_count": 36,
   "id": "477d1f37",
   "metadata": {},
   "outputs": [
    {
     "name": "stdout",
     "output_type": "stream",
     "text": [
      "60\n",
      "200.0\n"
     ]
    }
   ],
   "source": [
    "def x(p,r,t):\n",
    "    si=p*r*t/100\n",
    "    return si\n",
    "def y(l,b,h):\n",
    "    volume=l*b*h\n",
    "    return volume\n",
    "\n",
    "a=y(10,2,3)\n",
    "b=x(1000,10,2)\n",
    "print(a)\n",
    "print(b)\n"
   ]
  },
  {
   "cell_type": "markdown",
   "id": "cade9e00",
   "metadata": {},
   "source": [
    "Print a list with the help of range() and len() function.\n"
   ]
  },
  {
   "cell_type": "code",
   "execution_count": 1,
   "id": "b96e13cd",
   "metadata": {},
   "outputs": [
    {
     "name": "stdout",
     "output_type": "stream",
     "text": [
      "0\n",
      "1\n",
      "2\n",
      "3\n"
     ]
    }
   ],
   "source": [
    "a=[1,2,3,4]\n",
    "for i in range(len(a)):\n",
    "    print(i)"
   ]
  },
  {
   "cell_type": "markdown",
   "id": "fa750ae6",
   "metadata": {},
   "source": [
    "Create a function and Sort this list.\n",
    "Series = [100,45,67,23,89,0,2,87,3,10,34]"
   ]
  },
  {
   "cell_type": "code",
   "execution_count": 10,
   "id": "04be35a9",
   "metadata": {},
   "outputs": [],
   "source": [
    "def func():\n",
    "    v = [100,45,67,23,89,0,2,87,3,10,34]\n",
    "    return sorted(v)\n",
    "    \n",
    "    "
   ]
  },
  {
   "cell_type": "code",
   "execution_count": 12,
   "id": "74b1de6e",
   "metadata": {},
   "outputs": [
    {
     "data": {
      "text/plain": [
       "[0, 2, 3, 10, 23, 34, 45, 67, 87, 89, 100]"
      ]
     },
     "execution_count": 12,
     "metadata": {},
     "output_type": "execute_result"
    }
   ],
   "source": [
    "func()"
   ]
  },
  {
   "cell_type": "markdown",
   "id": "7c3779c3",
   "metadata": {},
   "source": [
    "Add second set items into the first set.\n",
    "First set = {“Apple”,”Banana”,”Cherry”,”Mango”}\n",
    "Second set = {1,2,3,4,5,6,7,8,9,10}\n"
   ]
  },
  {
   "cell_type": "code",
   "execution_count": 8,
   "id": "010589bb",
   "metadata": {},
   "outputs": [
    {
     "name": "stdout",
     "output_type": "stream",
     "text": [
      "{1, 'Aple', 'Cherry', 'Mango', 2, 3, 4, 5, 6, 'Banana', 7, 8, 9, 10}\n"
     ]
    }
   ],
   "source": [
    "a= {\"Aple\",\"Banana\",\"Cherry\",\"Mango\"} \n",
    "b={1,2,3,4,5,6,7,8,9,10}\n",
    "\n",
    "c = a.union(b)\n",
    "print(c)"
   ]
  },
  {
   "cell_type": "code",
   "execution_count": 9,
   "id": "3c447111",
   "metadata": {},
   "outputs": [
    {
     "data": {
      "text/plain": [
       "['Mango', 'Banana', 'Cherry', 'Apple', 1, 2, 3, 4, 5, 6, 7, 8, 9, 10]"
      ]
     },
     "execution_count": 9,
     "metadata": {},
     "output_type": "execute_result"
    }
   ],
   "source": [
    "a={'Apple','Banana','Cherry','Mango'}\n",
    "b={1,2,3,4,5,6,7,8,9,10}\n",
    "c=list(a)\n",
    "d=list(b)\n",
    "c+d"
   ]
  },
  {
   "cell_type": "markdown",
   "id": "0b04ffdc",
   "metadata": {},
   "source": [
    "Join two sets\n",
    "A = {1,2,3,4,5,6,7,8,}\n",
    "B = {“a”,”b”,”c”,”d”,”e”,”f”}"
   ]
  },
  {
   "cell_type": "code",
   "execution_count": 5,
   "id": "5e8e5b6a",
   "metadata": {},
   "outputs": [
    {
     "name": "stdout",
     "output_type": "stream",
     "text": [
      "{'d', 1, 2, 3, 4, 5, 6, 7, 8, 'e', 'c', 'a', 'b', 'f'}\n"
     ]
    }
   ],
   "source": [
    "setA = {1,2,3,4,5,6,7,8,}\n",
    "setB = {\"a\",\"b\",\"c\",\"d\",\"e\",\"f\"}\n",
    "\n",
    "setc= setA.union(setB)\n",
    "print(setc)\n"
   ]
  },
  {
   "cell_type": "markdown",
   "id": "c17aa048",
   "metadata": {},
   "source": [
    "Change the value “Age” of this dictionary.\n",
    "Student = {\n",
    "“Name” : “Alia”\n",
    "“Age” : 16\n",
    "“Roll_No” : 24\n",
    "“School” : “XYZ}"
   ]
  },
  {
   "cell_type": "code",
   "execution_count": 15,
   "id": "4b245edc",
   "metadata": {},
   "outputs": [
    {
     "data": {
      "text/plain": [
       "{'Name': 'Alia', 'Age': 20, 'Roll_No': 24, 'School': 'XYZ'}"
      ]
     },
     "execution_count": 15,
     "metadata": {},
     "output_type": "execute_result"
    }
   ],
   "source": [
    "d= { \"Name\" : \"Alia\", \"Age\" : 16, \"Roll_No\" : 24, \"School\" : \"XYZ\"}\n",
    "\n",
    "d[\"Age\"]=20\n",
    "\n",
    "d"
   ]
  },
  {
   "cell_type": "markdown",
   "id": "7ea037ae",
   "metadata": {},
   "source": [
    "Print all the values of this dictionary one by one.\n"
   ]
  },
  {
   "cell_type": "code",
   "execution_count": 12,
   "id": "1a0e3874",
   "metadata": {},
   "outputs": [
    {
     "data": {
      "text/plain": [
       "dict_values(['Alia', 16, 24, 'XYZ'])"
      ]
     },
     "execution_count": 12,
     "metadata": {},
     "output_type": "execute_result"
    }
   ],
   "source": [
    "d= { \"Name\" : \"Alia\", \"Age\" : 16, \"Roll_No\" : 24, \"School\" : \"XYZ\"}\n",
    "d.values()"
   ]
  },
  {
   "cell_type": "markdown",
   "id": "6770ebe5",
   "metadata": {},
   "source": [
    "Return third, fourth and fifth items\n",
    "Days = (“Sunday”, “Monday”, “Tuesday”, “Wednesday”, “Thursday”, “Friday”, “Saturday”)\n"
   ]
  },
  {
   "cell_type": "code",
   "execution_count": 5,
   "id": "866459df",
   "metadata": {},
   "outputs": [
    {
     "data": {
      "text/plain": [
       "'Tuesday Wednesday Thursday'"
      ]
     },
     "execution_count": 5,
     "metadata": {},
     "output_type": "execute_result"
    }
   ],
   "source": [
    "d= (\"Sunday\", \"Monday\", \"Tuesday\", \"Wednesday\", \"Thursday\", \"Friday\", \"Saturday\")\n",
    "s= d[2] + \" \" +  d[3] + \" \" + d[4]\n",
    "s\n"
   ]
  },
  {
   "cell_type": "markdown",
   "id": "c40c0d84",
   "metadata": {},
   "source": [
    "Unpack this tuple with the help of * asterisk\n",
    "fruits = (\"apple\", \"banana\", \"cherry\", \"strawberry\", \"raspberry\")\n"
   ]
  },
  {
   "cell_type": "code",
   "execution_count": 6,
   "id": "6a19c04e",
   "metadata": {},
   "outputs": [
    {
     "name": "stdout",
     "output_type": "stream",
     "text": [
      "apple\n",
      "banana\n",
      "['cherry', 'strawberry', 'raspberry']\n"
     ]
    }
   ],
   "source": [
    "fruits= (\"apple\", \"banana\", \"cherry\", \"strawberry\", \"raspberry\")\n",
    "\n",
    "(red, yellow, *pink) = fruits\n",
    "\n",
    "print(red)\n",
    "print(yellow)\n",
    "print(pink)"
   ]
  },
  {
   "cell_type": "markdown",
   "id": "8e22d800",
   "metadata": {},
   "source": [
    "Add “Orange” in this set with the help of constructor .\n",
    "fruits = {\"apple\", \"banana\", \"cherry\"}"
   ]
  },
  {
   "cell_type": "code",
   "execution_count": 27,
   "id": "1a07828c",
   "metadata": {},
   "outputs": [
    {
     "data": {
      "text/plain": [
       "['apple', 'banana', 'cherry']"
      ]
     },
     "execution_count": 27,
     "metadata": {},
     "output_type": "execute_result"
    }
   ],
   "source": [
    "fruits = {\"apple\", \"banana\", \"cherry\"}\n",
    "k=list(fruits)\n",
    "k"
   ]
  },
  {
   "cell_type": "code",
   "execution_count": 29,
   "id": "186b7935",
   "metadata": {},
   "outputs": [
    {
     "data": {
      "text/plain": [
       "['apple', 'banana', 'cherry', 'orange']"
      ]
     },
     "execution_count": 29,
     "metadata": {},
     "output_type": "execute_result"
    }
   ],
   "source": [
    "fruit=[\"orange\"]\n",
    "x=k+fruit\n",
    "x"
   ]
  },
  {
   "cell_type": "markdown",
   "id": "e72c940c",
   "metadata": {},
   "source": [
    "Create a Parent class and create two functions in this parent class first function print “Gud\n",
    "Morning”, statement and second function will do multiply with the help of two variables, use here\n",
    "self and __init__ function then create child class and make two functions in this class first function\n",
    "will print a list with the help of for loop and in second function will find the exponent with two\n",
    "variables. Use Super() method here.\n"
   ]
  },
  {
   "cell_type": "code",
   "execution_count": 10,
   "id": "54bd72b7",
   "metadata": {},
   "outputs": [
    {
     "name": "stdout",
     "output_type": "stream",
     "text": [
      "200\n",
      "good morning\n",
      "4\n",
      "[1, 2, 3, 'Vivek']\n"
     ]
    }
   ],
   "source": [
    "class x:\n",
    "    def __init__(self,a,b):\n",
    "        self.a=a\n",
    "        self.b=b\n",
    "        self.mul=a*b\n",
    "    def P(self):\n",
    "        print('good morning')\n",
    "        \n",
    "class y(x):\n",
    "    def __init__(self,a,b,p,q):\n",
    "        super(). __init__(a,b)\n",
    "        self.p=p\n",
    "        self.q=q\n",
    "        self.exp=p**q\n",
    "        \n",
    "    def Z(self):\n",
    "        v=[1,2,3,'Vivek']\n",
    "        print(v)\n",
    "                \n",
    "t=y(10,20,2,2)\n",
    "print(t.mul)\n",
    "t.P()\n",
    "print(t.exp)\n",
    "t.Z()\n",
    "\n",
    "\n",
    "        "
   ]
  },
  {
   "cell_type": "markdown",
   "id": "5b78ad88",
   "metadata": {},
   "source": [
    "19. Do the type conversion in python.\n",
    " 23 change this int into float.\n",
    " 13.4 change this float into complex number."
   ]
  },
  {
   "cell_type": "code",
   "execution_count": 11,
   "id": "639579a5",
   "metadata": {},
   "outputs": [
    {
     "data": {
      "text/plain": [
       "23.0"
      ]
     },
     "execution_count": 11,
     "metadata": {},
     "output_type": "execute_result"
    }
   ],
   "source": [
    "x=23\n",
    "y=float(x)\n",
    "y"
   ]
  },
  {
   "cell_type": "code",
   "execution_count": 12,
   "id": "72037ce1",
   "metadata": {},
   "outputs": [
    {
     "data": {
      "text/plain": [
       "(13.4+0j)"
      ]
     },
     "execution_count": 12,
     "metadata": {},
     "output_type": "execute_result"
    }
   ],
   "source": [
    "x=13.4\n",
    "y=complex(x)\n",
    "y"
   ]
  },
  {
   "cell_type": "markdown",
   "id": "5ed8f8d9",
   "metadata": {},
   "source": [
    "20. Create a Calculation Class and do addition, multiplication, subtraction and create two objects\n",
    "in this programme."
   ]
  },
  {
   "cell_type": "code",
   "execution_count": 6,
   "id": "739b6c3e",
   "metadata": {},
   "outputs": [
    {
     "name": "stdout",
     "output_type": "stream",
     "text": [
      "50\n",
      "600\n",
      "-10\n",
      "Second object :  110\n",
      "Second object :  3000\n",
      "Second object : 10\n"
     ]
    }
   ],
   "source": [
    "class x:\n",
    "    def __init__(self,a,b):\n",
    "        self.a=a\n",
    "        self.b=b\n",
    "        self.add=a+b\n",
    "        self.mul=a*b\n",
    "        self.sub=a-b\n",
    "        \n",
    "        \n",
    "t=x(20,30)\n",
    "t1=x(60,50)\n",
    "print(t.add)\n",
    "print(t.mul)\n",
    "print(t.sub)\n",
    "print('Second object : ', t1.add)\n",
    "print('Second object : ', t1.mul)\n",
    "print('Second object :' , t1.sub)"
   ]
  }
 ],
 "metadata": {
  "kernelspec": {
   "display_name": "Python 3 (ipykernel)",
   "language": "python",
   "name": "python3"
  },
  "language_info": {
   "codemirror_mode": {
    "name": "ipython",
    "version": 3
   },
   "file_extension": ".py",
   "mimetype": "text/x-python",
   "name": "python",
   "nbconvert_exporter": "python",
   "pygments_lexer": "ipython3",
   "version": "3.10.2"
  }
 },
 "nbformat": 4,
 "nbformat_minor": 5
}
